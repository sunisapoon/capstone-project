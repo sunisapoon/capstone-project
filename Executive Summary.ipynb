{
 "cells": [
  {
   "cell_type": "markdown",
   "id": "b2aab9a2",
   "metadata": {},
   "source": [
    "# Capstone Project: Executive Summary "
   ]
  },
  {
   "attachments": {},
   "cell_type": "markdown",
   "id": "46c421bc",
   "metadata": {},
   "source": [
    "## Background\n",
    "\n",
    "The automotive industry is rapidly embracing electric vehicles (EV) as the forefront of the future. With each passing year, EV markets are seeing exponential growth with a growing number of manufacturers substantially expanding their electric lineup.\n",
    "\n",
    "The growth in EV sector is driven by climate change and the reduction of carbon footprints generated from transportation.\n",
    "\n",
    "As an emerging sector with growth potential of 22.6% per year between 2020-2027, Investing in this EV sector could yield substantial returns in the future. \n",
    "\n",
    "FINVIZ (Financial Visualization) is a popular and widely used financial website (www.finviz.com) that provides various tools and information for investors and traders. It offers a range of features that help users analyze and track financial markets, stocks, commodities, currencies, and other financial instruments.\n",
    "\n",
    "In this era which the financial news happens in seconds. We can leverage this data to gain an edge in investment planning. \n",
    "\n",
    "## Stocks to watch in electric vehicle manufacturer sectors.\n",
    "\n",
    "**Tesla, Inc. (TSLA)**\n",
    "\n",
    "![TESLA](https://thumbor.forbes.com/thumbor/fit-in/600x300/https://www.forbes.com/advisor/wp-content/uploads/2022/09/Tesla_Inc__TSLA_-removebg-preview.png)\n",
    "\n",
    "\n",
    "Tesla is the biggest name in EVs. It has also become the largest car company in the world by market cap, traditional or electric—not to mention the eighth largest public company on the planet by capitalization.\n",
    "\n",
    "\n",
    "The key for Tesla? The company makes a profit while most other stocks in this sector do not, netting earnings per share (EPS) of $3.62 in 2022.\n",
    "\n",
    "\n",
    "One caveat for investors is that Tesla is more than a car company. Its business touches many areas, including batteries, robotics and solar panels.\n",
    "\n",
    "**NIO Inc. (NIO)**\n",
    "\n",
    "![NIO](https://thumbor.forbes.com/thumbor/fit-in/600x300/https://www.forbes.com/advisor/wp-content/uploads/2022/09/NIO_Inc.__NIO_-removebg-preview.png)\n",
    "\n",
    "Like Tesla, Nio is another one of the biggest names in the space—but the comparison to Tesla ends there. Nio is a Chinese startup, meaning investors are open to a whole new array of geopolitical risks.\n",
    "\n",
    "\n",
    "NIO is also far smaller: Tesla delivered more than 400,000 vehicles in Q4 of 2022, ten times Nio’s quarterly deliveries.\n",
    "\n",
    "\n",
    "But when you compare valuations, you can see the value. Nio trades at a significantly lower price/sales ratio, and the discount has widened this year. Nio’s returns have been relatively subdued, while Tesla has nearly doubled.\n",
    "\n",
    "**Li Auto Inc. (LI)**\n",
    "\n",
    "![LI](https://thumbor.forbes.com/thumbor/fit-in/600x300/https://www.forbes.com/advisor/wp-content/uploads/2022/09/Li_Auto_Inc.__LI_-removebg-preview.png)\n",
    "\n",
    "Li Auto is a Chinese EV maker whose shares fared surprisingly well in 2022, falling only 5percent when much of the rest of the market got crushed.\n",
    "\n",
    "\n",
    "The EV automaker also recently announced Q1 2022 deliveries of 52,584 units, representing an impressive 66percents year-over-year gain. For full-year 2022, Li delivered 133,246 units, up 47percents year over year.\n",
    "\n",
    "\n",
    "Li’s vehicles are all luxury SUVs that are targeted at high-end consumers. In the world of start-up EV automakers, revenue is a key focus. For Li Auto, its 2022 revenue gains stand out: Up nearly 68percents year over year.\n",
    "\n",
    "**XPeng Inc. (XPEV)**\n",
    "\n",
    "![XPENG](https://thumbor.forbes.com/thumbor/fit-in/600x300/https://www.forbes.com/advisor/wp-content/uploads/2022/09/XPeng_Inc.__XPEV_-removebg-preview.png)\n",
    "\n",
    "Xpeng is another Chinese EV manufacturer. The company makes SUVs, sport sedans and family sedans. The company delivered 120,757 vehicles in 2022, up 23percents year over year. Revenue climbed 28percents over the previous year.\n",
    "\n",
    "\n",
    "XPEV’s vehicles are targeted at “tech-savvy middle-class consumers,” according to the company. For investors banking on China’s economic growth continuing apace, this represents a tantalizing alternative for EVs market exposure.\n",
    "\n",
    "\n",
    "**Rivian Automotive (RIVN)**\n",
    "\n",
    "![RIVN](https://companiesmarketcap.com/img/company-logos/256/RIVN.webp)\n",
    "\n",
    "an electric car manufacturer that has taken an innovative approach to vehicle design. Rivian has developed a ‘skateboard’ platform, a wheeled chassis powered by four electric motors – one at each wheel. This versatile chassis incorporates pre-installed fittings for various battery systems and can accommodate different body styles and functions. As a result, it’s a modular EV that offers maximum flexibility and can easily adapt to a range of vehicle types. Rivian’s platform is designed from the ground up to provide maximum flexibility.\n",
    "\n",
    "**Lucid Group Inc. (LCID)**\n",
    "\n",
    "![LCID](https://thumbor.forbes.com/thumbor/fit-in/600x300/https://www.forbes.com/advisor/wp-content/uploads/2022/09/Lucid-Group-Inc..png)\n",
    "\n",
    "Lucid is an American EV maker known for producing the fastest-charging car on the market, the Lucid Air.\n",
    "\n",
    "\n",
    "Lucid manufactures luxury EVs, but it delivered only 4,369 vehicles last year, blaming supply chain and production issues for its diminished performance. It’s also worth noting that Saudi Arabia’s public investment fund owns a 62percents stake in the company.\n",
    "\n",
    "## Problem Statements\n",
    "\n",
    "**Target audiences**\n",
    "\n",
    "The independent investors who would like invest in the emerging electric vehicle sector to gain the competitive advantages wtih insights from public information. \n",
    "\n",
    "\n",
    "**Objectives**\n",
    "\n",
    "Goal as independent investors who are interested in investing in EV manufacturers:\n",
    "- To understand the emotion behind the headlines and predict whether the market feels good or bad about stocks in this segment.\n",
    "- Possible to educated guess on how specific stocks will perform and trade accordingly.\n"
   ]
  },
  {
   "cell_type": "markdown",
   "id": "2487d0bf",
   "metadata": {},
   "source": [
    "### Data Sources\n",
    "\n",
    "The data in this study is scraping from www.finviz.com which is the financial visualization website, on each stock specific website\n",
    "The latest data collection date is on 23 August 2023\n",
    "\n",
    "The pre-processing steps has been done to prepare the dataset and converted to matrix to use for sentiment analysis.\n",
    "\n",
    "**Data Dictionary**\n",
    "\n",
    "| #   | Data      | Number of data | Data type   |   Description    |\n",
    "|----:| --------- | -------------- | ------------| ----- |\n",
    "|   0 | stock     | 600            | object      |    Stock tickers   |\n",
    "|   1 | headline  | 600            | object      |    News headline that display on the finviz.com per stock, maximum 100 news headlines were scraped per time   |\n",
    "|   2 | source    | 600            | object      |  Sources of news     |\n",
    "|   3 | date      | 600            | datetime    |  News published date     |\n",
    "|   4 | time      | 600            | datetime    |  News published time     |\n"
   ]
  },
  {
   "cell_type": "markdown",
   "id": "e653ad3a",
   "metadata": {},
   "source": [
    "**Top words in news headlines**\n",
    "\n",
    "Top words\n",
    "\n",
    "\n",
    "| Index | Keyword   | Frequency |\n",
    "|-------|-----------|-----------|\n",
    "|     0 | stock     |       271 |\n",
    "|     1 | ev        |       166 |\n",
    "|     2 | tesla     |       143 |\n",
    "|     3 | nio       |        95 |\n",
    "|     4 | xpeng     |        81 |\n",
    "|     5 | li        |        75 |\n",
    "|     6 | lucid     |        73 |\n",
    "|     7 | rivian    |        68 |\n",
    "|     8 | earnings  |        62 |\n",
    "|     9 | china     |        59 |\n",
    "\n",
    "\n",
    "Most of the top words are stock names which mentioned in the news. We can see clearly that Tesla is top word mentioned the most among different brand, which show to popularity of the brand.\n",
    "\n"
   ]
  },
  {
   "cell_type": "markdown",
   "id": "511343ab",
   "metadata": {},
   "source": [
    "## Sentiment analysis with NLTK Vader"
   ]
  },
  {
   "cell_type": "markdown",
   "id": "0a26a687",
   "metadata": {},
   "source": [
    "The news headlines range from 25 to 175 characters. Most of the news headlines are in between 25-100 characters. \n",
    "\n",
    "Average word length ranges between 3 to 8 words. With 5 is the most frequent word length found in the headlines.\n",
    "\n",
    "Unsurprisingly, most of the top words are EV brands as these news are curated related to the brands. Tesla is the most popular brands mentioned here. Follow by Nio, Xpeng, Li, lucid, and rivian. \n",
    "\n",
    "China is the only country that found in top 10 words, the reason might be China is the country that considers as leaders of EV industry, so it is one of the word regularly mentioned in headlines.\n",
    "\n",
    "Most of the news headlines has neutral sentiment, around 200 are in positive sentiments and some negative headline are less than neutral and positive.\n",
    "\n",
    "Overall, distribution of sentiment of EV manufacturers' stocks news headline over period of time is on the positive sentiment. We may consider that market has positive perception about this segment."
   ]
  },
  {
   "cell_type": "markdown",
   "id": "e67246ca",
   "metadata": {},
   "source": [
    "## Modeling"
   ]
  },
  {
   "cell_type": "markdown",
   "id": "d44cf5d2",
   "metadata": {},
   "source": [
    "We decide to use 2 classifier to build a classification model for sentiment analysis toward the news headlines. with 2 options of feature extraction techniques in consideration.\n",
    "- Naive Bayes (NB) model \n",
    "- Random Forest (RF) model\n",
    "\n",
    "Feature extraction techniques\n",
    "- CountVectorizer (Cvec) \n",
    "- TF-IDF Vectorizer (Tvec)."
   ]
  },
  {
   "cell_type": "markdown",
   "id": "8a68b090",
   "metadata": {},
   "source": [
    "### Model performances\n",
    "\n",
    "\n",
    "|**Model**|**NB-Cvec**|**NB-Tvec**|**RF-Cvec**|**RF-Tvec**|\n",
    "|-------------------|-------------------|-------------------|-------------------|-------------------|\n",
    "|Best score|0.693|0.664|0.690|0.690|\n",
    "|Train score|0.993|0.910|1.000|1.000|\n",
    "|Test score|0.639|0.556|0.656|0.667|\n",
    "|Accuracy|0.853|0.743|0.800|0.803|\n",
    "|Specificity|0.607|0.129|0.266|0.276|"
   ]
  },
  {
   "cell_type": "markdown",
   "id": "7f0b6f55",
   "metadata": {},
   "source": [
    "Baseline = 0.466667\n",
    "We have set the baseline model with count, aim to be better than 0.4667 to beat the baseline model"
   ]
  },
  {
   "cell_type": "markdown",
   "id": "3d843ea2",
   "metadata": {},
   "source": [
    "Comparing the performance of two different machine learning models, a Naive Bayes (NB) model and a Random Forest (RF) model, with different feature extraction techniques, CountVectorizer (Cvec) and TF-IDF Vectorizer (Tvec).\n",
    "\n",
    "Each model is evaluated based on several metrics: Best Score, Train Score, Test Score and Specificity. comparing with baseline model.\n",
    "\n",
    "Based on these scores, the Naive Bayes with CountVectorizer seems to be the better model. It has the highest 'Best score' (0.693), which means it performed the best during cross-validation. \n",
    "\n",
    "Although the train score sligthly lower than the Random Forest model's 'Train score. However, this high score in RF model might indicate overfitting in the RF model. \n",
    "\n",
    "Moreover, the specificity score of Naive Bayes model with countVectorizer is th e highest among all models, suggested that it might perform well in indentifying negative instances.\n",
    "\n",
    "With these reason, the Random Forest model with CountVectorizer (RF-Cvec) should be the most effective in predicting the sentiment of the news headlines."
   ]
  },
  {
   "cell_type": "markdown",
   "id": "da426a4f",
   "metadata": {},
   "source": [
    "## Conclusion and recommendations"
   ]
  },
  {
   "cell_type": "markdown",
   "id": "700f064d",
   "metadata": {},
   "source": [
    "### Conclusions\n",
    "\n",
    "From sentiment analysis, most of the news has neutral sentiment. And more positive than negative. \n",
    "\n",
    "\n",
    "Unsurprisingly, most top words are EV brands, as these news are curated related to the specific stocks. \n",
    "\n",
    "\n",
    "The most mentioned brand is Tesla which is consider a pioneer and leader in this segment.\n",
    "Followed by Nio, Xpeng, Li, lucid, and Rivian.\n",
    "\n",
    "\n",
    "In top words, China is the only country mentioned in the news headlines. This might be due to China’s dominance as World’s EV leader. \n",
    "\n",
    "\n",
    "Observation over a period of time, the distribution of news headlines for EV manufacturers’ stock is toward the positive sentiment. Indicating a positive outlook towards the stocks in this segment.\n",
    "\n",
    "\n",
    "We constructed and evaluated performance of model to predict the sentiment of the news headline in EV manufacturers segment. The Naive Bayes model with CountVectorizer (NB-Cvec) seems to be the best choice here in classify the sentiment on the stock news headlines. This model demonstrated the highest cross-validation score and test score among all model here.\n",
    "\n",
    "\n",
    "Moreover, this model showed an improvement over the baseline model indicating that our model significantly outperforms a random guess or a simple heuristic. "
   ]
  },
  {
   "cell_type": "markdown",
   "id": "447b9bc9",
   "metadata": {},
   "source": [
    "### Recommendations\n",
    "\n",
    "Based on these results, it is recommended to select the Naive Bayes model with CountVectorizer (NB-Cvec) for classification of sentiment toward the stock news headlines for EV segment.\n",
    "\n",
    "\n",
    "However, due to the limit period of time, the data of the news headlines for this specific segment might not be enough. It would be better if the data can be collect in longer period of time to use for model performance improvement.\n",
    "\n",
    "\n",
    "Also, considering investment into this new segment. We should broaden the scope of our target stocks to full ecosystem of EV industry, including battery makers, charging services, software, and autonomous vehicles companies.\n",
    "\n",
    "\n",
    "Furthermore, to getting more accurate result on actual performance, we should collect stock price data and matching with sentiment analysis for better investment prediction."
   ]
  },
  {
   "cell_type": "markdown",
   "id": "d4f8189c",
   "metadata": {},
   "source": [
    "### References\n",
    "https://companiesmarketcap.com/rivian/marketcap/\n",
    "\n",
    "https://www.investors.com/news/best-ev-stocks-buy-now-electric-cars/\n",
    "\n",
    "https://www.forbes.com/advisor/investing/best-ev-stocks/"
   ]
  },
  {
   "cell_type": "code",
   "execution_count": null,
   "id": "3adf6e1a",
   "metadata": {},
   "outputs": [],
   "source": []
  }
 ],
 "metadata": {
  "kernelspec": {
   "display_name": "Python 3 (ipykernel)",
   "language": "python",
   "name": "python3"
  },
  "language_info": {
   "codemirror_mode": {
    "name": "ipython",
    "version": 3
   },
   "file_extension": ".py",
   "mimetype": "text/x-python",
   "name": "python",
   "nbconvert_exporter": "python",
   "pygments_lexer": "ipython3",
   "version": "3.10.9"
  }
 },
 "nbformat": 4,
 "nbformat_minor": 5
}
