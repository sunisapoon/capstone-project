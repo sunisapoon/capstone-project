{
 "cells": [
  {
   "cell_type": "markdown",
   "id": "6f54a2c4",
   "metadata": {},
   "source": [
    "## Conclusions and recommendations"
   ]
  },
  {
   "cell_type": "markdown",
   "id": "26f722a7",
   "metadata": {},
   "source": [
    "### Conclusions\n",
    "\n",
    "From sentiment analysis, most of the news has neutral sentiment. And more positive than negative. \n",
    "\n",
    "\n",
    "Unsurprisingly, most top words are EV brands, as these news are curated related to the specific stocks. \n",
    "\n",
    "\n",
    "The most mentioned brand is Tesla which is consider a pioneer and leader in this segment.\n",
    "Followed by Nio, Xpeng, Li, lucid, and Rivian.\n",
    "\n",
    "\n",
    "In top words, China is the only country mentioned in the news headlines. This might be due to China’s dominance as World’s EV leader. \n",
    "\n",
    "\n",
    "Observation over a period of time, the distribution of news headlines for EV manufacturers’ stock is toward the positive sentiment. Indicating a positive outlook towards the stocks in this segment.\n",
    "\n",
    "\n",
    "We constructed and evaluated performance of model to predict the sentiment of the news headline in EV manufacturers segment. The Naive Bayes model with CountVectorizer (NB-Cvec) seems to be the best choice here in classify the sentiment on the stock news headlines. This model demonstrated the highest cross-validation score and test score among all model here.\n",
    "\n",
    "\n",
    "Moreover, this model showed an improvement over the baseline model indicating that our model significantly outperforms a random guess or a simple heuristic. "
   ]
  },
  {
   "cell_type": "markdown",
   "id": "16b48fb7",
   "metadata": {},
   "source": [
    "### Recommendations\n",
    "\n",
    "Based on these results, it is recommended to select the Naive Bayes model with CountVectorizer (NB-Cvec) for classification of sentiment toward the stock news headlines for EV segment.\n",
    "\n",
    "\n",
    "However, due to the limit period of time, the data of the news headlines for this specific segment might not be enough. It would be better if the data can be collect in longer period of time to use for model performance improvement.\n",
    "\n",
    "\n",
    "Also, considering investment into this new segment. We should broaden the scope of our target stocks to full ecosystem of EV industry, including battery makers, charging services, software, and autonomous vehicles companies.\n",
    "\n",
    "\n",
    "Furthermore, to getting more accurate result on actual performance, we should collect stock price data and matching with sentiment analysis for better investment prediction."
   ]
  },
  {
   "cell_type": "code",
   "execution_count": null,
   "id": "4bd9e48e",
   "metadata": {},
   "outputs": [],
   "source": []
  }
 ],
 "metadata": {
  "kernelspec": {
   "display_name": "Python 3 (ipykernel)",
   "language": "python",
   "name": "python3"
  },
  "language_info": {
   "codemirror_mode": {
    "name": "ipython",
    "version": 3
   },
   "file_extension": ".py",
   "mimetype": "text/x-python",
   "name": "python",
   "nbconvert_exporter": "python",
   "pygments_lexer": "ipython3",
   "version": "3.10.9"
  }
 },
 "nbformat": 4,
 "nbformat_minor": 5
}
